{
 "cells": [
  {
   "cell_type": "markdown",
   "metadata": {},
   "source": [
    "# Power calcs for micro hydroelectric\n",
    "\n",
    "Based on calculations found here:\n",
    "\n",
    "http://farmhack.org/tools/micro-hydro-basics-and-case-study\n",
    "\n"
   ]
  },
  {
   "cell_type": "markdown",
   "metadata": {},
   "source": [
    "## Power and  energy required by a sleeping Arduino"
   ]
  },
  {
   "cell_type": "code",
   "execution_count": 57,
   "metadata": {
    "collapsed": true
   },
   "outputs": [],
   "source": [
    "# voltage of a mini Pro or Riffle \n",
    "v=3.3 "
   ]
  },
  {
   "cell_type": "code",
   "execution_count": 58,
   "metadata": {
    "collapsed": true
   },
   "outputs": [],
   "source": [
    "# current associated with an arduino sleeping \n",
    "i=.001 # amps; can probably do better than this, but let's assume this for now"
   ]
  },
  {
   "cell_type": "code",
   "execution_count": 59,
   "metadata": {
    "collapsed": false
   },
   "outputs": [
    {
     "data": {
      "text/plain": [
       "0.0033"
      ]
     },
     "execution_count": 59,
     "metadata": {},
     "output_type": "execute_result"
    }
   ],
   "source": [
    "p=v*i;p # in watts"
   ]
  },
  {
   "cell_type": "code",
   "execution_count": 60,
   "metadata": {
    "collapsed": false,
    "scrolled": true
   },
   "outputs": [
    {
     "data": {
      "text/plain": [
       "7.92e-05"
      ]
     },
     "execution_count": 60,
     "metadata": {},
     "output_type": "execute_result"
    }
   ],
   "source": [
    "# energy per day, in kilowatt-hours \n",
    "e=p/1000*24; e"
   ]
  },
  {
   "cell_type": "markdown",
   "metadata": {},
   "source": [
    "**Conclusion**:  a sleeping Arduino requires **0.00008** kilowatt-hours per day"
   ]
  },
  {
   "cell_type": "markdown",
   "metadata": {},
   "source": [
    "## Power  and energy required by an Arduino constantly taking photos, no sleeping\n",
    "\n",
    "In order to get an upper bound, let's assume that the Arduino is constantly on (takes around 30 mA) and that the camera is constantly powered with 100 mA (seems to be reasonable, based on specs [here](https://www.adafruit.com/product/397).\n"
   ]
  },
  {
   "cell_type": "code",
   "execution_count": 16,
   "metadata": {
    "collapsed": true
   },
   "outputs": [],
   "source": [
    "v=5 # the camera modules seem to typically require 5 volts"
   ]
  },
  {
   "cell_type": "code",
   "execution_count": 17,
   "metadata": {
    "collapsed": true
   },
   "outputs": [],
   "source": [
    "# current associated with an arduino taking a photo\n",
    "# arduino is about 30 mA; \n",
    "# camera is about 100 mA\n",
    "\n",
    "i  = .03 + .1 # in amps"
   ]
  },
  {
   "cell_type": "code",
   "execution_count": 18,
   "metadata": {
    "collapsed": false
   },
   "outputs": [
    {
     "data": {
      "text/plain": [
       "0.65"
      ]
     },
     "execution_count": 18,
     "metadata": {},
     "output_type": "execute_result"
    }
   ],
   "source": [
    "p=v*i;p # in watts"
   ]
  },
  {
   "cell_type": "code",
   "execution_count": 19,
   "metadata": {
    "collapsed": false
   },
   "outputs": [
    {
     "data": {
      "text/plain": [
       "0.0156"
      ]
     },
     "execution_count": 19,
     "metadata": {},
     "output_type": "execute_result"
    }
   ],
   "source": [
    "# energy per day, in kilowatt-hours \n",
    "e=p/1000*24; e"
   ]
  },
  {
   "cell_type": "markdown",
   "metadata": {},
   "source": [
    "**Conclusion**:  a constantly-on Arduino, while taking photos, would require **0.02** kW-hours per day."
   ]
  },
  {
   "cell_type": "markdown",
   "metadata": {},
   "source": [
    "## Power  and energy for Arduino taking photos, sleep + wake protocol \n",
    "\n",
    "Assume Arduino is sleeping most of hour.\n",
    "\n",
    "Every hour, Arduino wakes up for 5 minutes, takes a photo, returns to sleep.\n"
   ]
  },
  {
   "cell_type": "code",
   "execution_count": 38,
   "metadata": {
    "collapsed": true
   },
   "outputs": [],
   "source": [
    "v=5 # the camera modules seem to typically require 5 volts"
   ]
  },
  {
   "cell_type": "code",
   "execution_count": 39,
   "metadata": {
    "collapsed": true
   },
   "outputs": [],
   "source": [
    "v_arduino=3.3 # volts\n",
    "i_arduino_asleep=.001 # amps\n",
    "i_arduino_awake = .03 # amps\n",
    "i_camera = .1 # amps\n",
    "\n",
    "average_current=(i_arduino_asleep*55 + (i_arduino_awake+i_camera)*5)/60 # assume 5 minutes awake, 55 minutes asleep, every hour\n"
   ]
  },
  {
   "cell_type": "code",
   "execution_count": 40,
   "metadata": {
    "collapsed": false
   },
   "outputs": [
    {
     "data": {
      "text/plain": [
       "0.05875000000000001"
      ]
     },
     "execution_count": 40,
     "metadata": {},
     "output_type": "execute_result"
    }
   ],
   "source": [
    "p=v*average_current;p # in watts"
   ]
  },
  {
   "cell_type": "code",
   "execution_count": 41,
   "metadata": {
    "collapsed": false
   },
   "outputs": [
    {
     "data": {
      "text/plain": [
       "0.0014100000000000002"
      ]
     },
     "execution_count": 41,
     "metadata": {},
     "output_type": "execute_result"
    }
   ],
   "source": [
    "# energy per day, in kilowatt-hours \n",
    "e=p/1000*24; e"
   ]
  },
  {
   "cell_type": "markdown",
   "metadata": {},
   "source": [
    "**Conclusion**: this protocol would require about **0.002** kW-hours per day  "
   ]
  },
  {
   "cell_type": "markdown",
   "metadata": {},
   "source": [
    "## Power  and energy for Raspberry Pi taking photos, sleep + wake protocol \n",
    "\n",
    "Using an Arduino to control a Raspberry Pi.\n",
    "\n",
    "Raspberry Pi is usually off; Arduino is usually sleeping.\n",
    "\n",
    "Protocol:\n",
    "\n",
    "- Arduino sleeps at 100 uA for 55 minutes, while R-Pi is off.\n",
    "- Arduino wakes up (50 mA), wakes up Raspberry Pi (500 mA) to take photo with RPI camera (250 mA). Takes 5 minutes."
   ]
  },
  {
   "cell_type": "code",
   "execution_count": 52,
   "metadata": {
    "collapsed": false
   },
   "outputs": [
    {
     "name": "stdout",
     "output_type": "stream",
     "text": [
      "3.5283875000000005\n"
     ]
    }
   ],
   "source": [
    "v_arduino=3.3 # volts\n",
    "v_rpi=5 # volts\n",
    "i_arduino_asleep=.0005 # amps\n",
    "i_arduino_awake = .03 # amps\n",
    "i_camera = .25 # amps\n",
    "i_raspberry_pi = .5 # amps\n",
    "\n",
    "p_asleep = i_arduino_asleep*v_arduino # in watts\n",
    "\n",
    "p_awake = i_arduino_awake*v_arduino + (i_raspberry_pi+i_camera)*v_rpi # in watts\n",
    "\n",
    "average_power = (p_asleep*5 + p_awake*55)/60; # in watts\n",
    "\n",
    "print(average_power)"
   ]
  },
  {
   "cell_type": "code",
   "execution_count": 53,
   "metadata": {
    "collapsed": false
   },
   "outputs": [
    {
     "name": "stdout",
     "output_type": "stream",
     "text": [
      "0.08468130000000001\n"
     ]
    }
   ],
   "source": [
    "# energy per day, in kilowatt-hours \n",
    "e=average_power/1000*24\n",
    "\n",
    "print(e) # in kW-hours"
   ]
  },
  {
   "cell_type": "markdown",
   "metadata": {},
   "source": [
    "*Conclusion*: this protocol would require 0.09 kW-hours per day  "
   ]
  },
  {
   "cell_type": "markdown",
   "metadata": {},
   "source": [
    "## Micro-hydro generator\n",
    "\n",
    "Stream: .5 kW-hr per month\n",
    "\n",
    "Fastie Springhouse: 1 kW-hr per day"
   ]
  },
  {
   "cell_type": "code",
   "execution_count": 54,
   "metadata": {
    "collapsed": false
   },
   "outputs": [
    {
     "data": {
      "text/plain": [
       "0.016666666666666666"
      ]
     },
     "execution_count": 54,
     "metadata": {},
     "output_type": "execute_result"
    }
   ],
   "source": [
    "# stream in kw-hr per day\n",
    "\n",
    ".5 / 30 # in kw-hr per day"
   ]
  },
  {
   "cell_type": "markdown",
   "metadata": {},
   "source": [
    "Conclusion:\n",
    "\n",
    "The Springhouse could power all configurations, above.\n",
    "\n",
    "A stream could power the Arduino-only configurations, but wouldn't be sufficient to power the RPi + camera on the protocol described above (RPi wakes up once per hour). \n",
    "\n",
    "If the RPi were instead only triggered awake an average of once per day, or less ..."
   ]
  },
  {
   "cell_type": "code",
   "execution_count": 56,
   "metadata": {
    "collapsed": false
   },
   "outputs": [
    {
     "data": {
      "text/plain": [
       "0.00375"
      ]
     },
     "execution_count": 56,
     "metadata": {},
     "output_type": "execute_result"
    }
   ],
   "source": [
    ".09/24 # kw-hrs if RPi is only triggered once per day"
   ]
  },
  {
   "cell_type": "markdown",
   "metadata": {},
   "source": [
    "... then a stream might provide enough power."
   ]
  },
  {
   "cell_type": "code",
   "execution_count": null,
   "metadata": {
    "collapsed": true
   },
   "outputs": [],
   "source": []
  }
 ],
 "metadata": {
  "kernelspec": {
   "display_name": "Python 3",
   "language": "python",
   "name": "python3"
  },
  "language_info": {
   "codemirror_mode": {
    "name": "ipython",
    "version": 3
   },
   "file_extension": ".py",
   "mimetype": "text/x-python",
   "name": "python",
   "nbconvert_exporter": "python",
   "pygments_lexer": "ipython3",
   "version": "3.5.1"
  }
 },
 "nbformat": 4,
 "nbformat_minor": 0
}
